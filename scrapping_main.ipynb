{
  "nbformat": 4,
  "nbformat_minor": 0,
  "metadata": {
    "colab": {
      "provenance": [],
      "include_colab_link": true
    },
    "kernelspec": {
      "name": "python3",
      "display_name": "Python 3"
    },
    "language_info": {
      "name": "python"
    }
  },
  "cells": [
    {
      "cell_type": "markdown",
      "metadata": {
        "id": "view-in-github",
        "colab_type": "text"
      },
      "source": [
        "<a href=\"https://colab.research.google.com/github/harinirekha/Scarapping-/blob/main/scrapping_main.ipynb\" target=\"_parent\"><img src=\"https://colab.research.google.com/assets/colab-badge.svg\" alt=\"Open In Colab\"/></a>"
      ]
    },
    {
      "cell_type": "code",
      "execution_count": null,
      "metadata": {
        "colab": {
          "base_uri": "https://localhost:8080/"
        },
        "id": "RvGF9FLqsWgS",
        "outputId": "2c78dca6-32bf-41c4-e488-b087588bce1d"
      },
      "outputs": [
        {
          "output_type": "stream",
          "name": "stdout",
          "text": [
            "Scraped Prices:\n",
            "[43.55, 28.9, 30.5, 37.5, 27.0, 35.0, 29.95, 20.35, 69.9, 27.0, 27.5, 14.0, 32.0, 69.9, 59.9, 49.0, 17.6, 23.4, 24.7, 14.9, 22.9, 14.9, 28.0, 34.3, 177.05, 49.95, 29.15, 61.25, 27.0, 32.65, 29.0, 29.0, 23.0, 29.0, 18.35, 30.05, 34.9, 19.35, 39.2, 35.45, 26.25, 32.1, 31.75, 42.0, 168.55, 49.95, 32.35, 29.5, 23.0, 19.9, 49.95, 45.0, 18.7, 47.45, 42.25, 15.6, 43.9, 49.0, 30.05, 33.0, 32.0, 29.9, 39.95, 115.7, 30.4, 76.0, 35.0, 22.0, 32.95, 41.95, 20.0, 55.8, 19.9, 35.8, 49.95, 21.25, 48.15, 13.0, 33.5, 26.7, 39.5, 29.95, 58.0, 29.95, 39.45, 20.0, 75.85, 20.35, 52.3, 29.0, 39.95, 161.65, 14.0, 20.85, 47.0, 37.0, 26.75, 30.05, 31.05, 49.95, 49.0, 38.1, 28.9, 32.3, 22.1, 29.4, 26.0, 49.75, 139.0, 20.15, 29.0, 30.05, 19.4, 37.0, 63.0, 13.0, 32.45, 20.0, 17.95, 26.45, 28.0, 69.9, 18.85, 26.3, 26.4, 75.0, 42.85, 9.4, 28.3, 63.85, 32.7, 41.2, 29.0]\n"
          ]
        }
      ],
      "source": [
        "import requests\n",
        "from bs4 import BeautifulSoup\n",
        "import pandas as pd\n",
        "\n",
        "# Function to scrape prices\n",
        "def scrape_prices(url):\n",
        "    headers = {\n",
        "        \"User-Agent\": \"Mozilla/5.0 (Windows NT 10.0; Win64; x64) AppleWebKit/537.36 (KHTML, like Gecko) Chrome/91.0.4472.124 Safari/537.36\"\n",
        "    }\n",
        "    prices = []\n",
        "\n",
        "    while url:\n",
        "        response = requests.get(url, headers=headers)\n",
        "        soup = BeautifulSoup(response.text, 'html.parser')\n",
        "\n",
        "        # Find all elements with the class 'amount'\n",
        "        items = soup.find_all(class_='amount')\n",
        "\n",
        "        for item in items:\n",
        "            price = item.text.replace('AED', '').strip()\n",
        "            prices.append(float(price))\n",
        "\n",
        "        # Find the link to the next page\n",
        "        next_button = soup.find('a', attrs={'rel': 'next'})\n",
        "        if next_button:\n",
        "            url = next_button['href']\n",
        "        else:\n",
        "            break\n",
        "\n",
        "    return prices\n",
        "\n",
        "# Main execution\n",
        "url = 'https://www.noon.com/uae-en/sports-and-outdoors/exercise-and-fitness/yoga-16328/?limit=150&sort%5Bby%5D=popularity&sort%5Bdir%5D=desc'\n",
        "prices = scrape_prices(url)\n",
        "\n",
        "# Save prices to CSV\n",
        "csv_file = 'yoga_prices.csv'\n",
        "pd.DataFrame(prices, columns=['Price']).to_csv(csv_file, index=False)\n",
        "\n",
        "# Print scraped prices\n",
        "print(f\"Scraped Prices:\\n{prices}\")\n"
      ]
    }
  ]
}